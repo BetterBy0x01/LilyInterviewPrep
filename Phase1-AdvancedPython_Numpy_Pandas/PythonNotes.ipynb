{
 "cells": [
  {
   "cell_type": "code",
   "execution_count": null,
   "metadata": {},
   "outputs": [],
   "source": [
    "# Keyword Argument\n",
    "def num_sum(a, b):\n",
    "    return a+b\n",
    "num_sum(2,b=3)         # Here b=3 is a keyword argument"
   ]
  },
  {
   "cell_type": "code",
   "execution_count": 5,
   "metadata": {},
   "outputs": [
    {
     "data": {
      "text/plain": [
       "'Eligible'"
      ]
     },
     "execution_count": 5,
     "metadata": {},
     "output_type": "execute_result"
    }
   ],
   "source": [
    "# Ternary operator\n",
    "age=22\n",
    "\n",
    "# Meth 1\n",
    "# if age>=18:\n",
    "#     message = \"Eligible\"\n",
    "# else:\n",
    "#     message = \"Not Eligible\"\n",
    "\n",
    "# Meth 2\n",
    "message = \"Eligible\" if age >=18 else \"Not Eligible\"\n",
    "message"
   ]
  },
  {
   "cell_type": "code",
   "execution_count": 4,
   "metadata": {},
   "outputs": [
    {
     "name": "stdout",
     "output_type": "stream",
     "text": [
      "Attempt\n",
      "Attempt\n",
      "Attempt\n",
      "Attempted 3 times and failed\n"
     ]
    }
   ],
   "source": [
    "# For .. else\n",
    "successful = False\n",
    "for number in range(3):\n",
    "    print(\"Attempt\")\n",
    "    if successful:\n",
    "        print(\"Successful\")\n",
    "        break\n",
    "else:                                           # gets executed only if the loop completes without an early termination\n",
    "    print(\"Attempted 3 times and failed\")       # so if we are not breaking 'break' then the else statement will be executed\n",
    "    "
   ]
  },
  {
   "cell_type": "code",
   "execution_count": 8,
   "metadata": {},
   "outputs": [
    {
     "data": {
      "text/plain": [
       "120"
      ]
     },
     "execution_count": 8,
     "metadata": {},
     "output_type": "execute_result"
    }
   ],
   "source": [
    "# xargs\n",
    "def multiple(*numbers):\n",
    "    # print(type(numbers))                # tuple of the arguments passed\n",
    "    total = 1\n",
    "    for number in numbers:\n",
    "        total *= number\n",
    "    return total\n",
    "\n",
    "multiple(2,3,4,5)"
   ]
  },
  {
   "cell_type": "code",
   "execution_count": 10,
   "metadata": {},
   "outputs": [],
   "source": [
    "# Exceptions\n",
    "# raise FileExistsError('File doesn\\'t exist in the desired location')\n",
    "\n",
    "try:\n",
    "    pass\n",
    "except FileExistsError as e:\n",
    "    pass\n",
    "else:\n",
    "    pass\n",
    "finally:\n",
    "    # Clean up operations (closing the db connection, closing the opened file etc.)\n",
    "    pass"
   ]
  },
  {
   "cell_type": "code",
   "execution_count": 16,
   "metadata": {},
   "outputs": [
    {
     "name": "stdout",
     "output_type": "stream",
     "text": [
      "X:  1\n",
      "Y:  (3, 4)\n"
     ]
    }
   ],
   "source": [
    "# *args and **kwargs\n",
    "def func(x, y):\n",
    "    print(\"X: \", x)\n",
    "    print(\"Y: \", y)\n",
    "\n",
    "# # *args\n",
    "# pairs = [(1,2), (3,4)]\n",
    "# func(*pairs)\n",
    "\n",
    "# # **kwargs\n",
    "# func(**{'x': 2, 'y': 5})\n",
    "\n"
   ]
  },
  {
   "cell_type": "code",
   "execution_count": 22,
   "metadata": {},
   "outputs": [
    {
     "name": "stdout",
     "output_type": "stream",
     "text": [
      "1, 2, 3, 4\n",
      "\n",
      "Sum of 1 and 2 is 3\n"
     ]
    }
   ],
   "source": [
    "# Join\n",
    "lst = [1,2,3,4]\n",
    "print(', '.join([str(num) for num in lst]))\n",
    "\n",
    "# Format\n",
    "a = 1\n",
    "b = 2\n",
    "print(\"\\nSum of {} and {} is {}\".format(a, b, a+b))"
   ]
  },
  {
   "cell_type": "markdown",
   "metadata": {},
   "source": [
    "## Collections - Counter, namedtuple, OrderedDict, defaultdict, deque\n",
    "\n",
    "Source[https://youtu.be/UdcPhnNjSEw?list=PLqnslRFeH2UqLwzS0AwKDKLrpYBKzLBy2]"
   ]
  },
  {
   "cell_type": "markdown",
   "metadata": {},
   "source": [
    "### Counter"
   ]
  },
  {
   "cell_type": "code",
   "execution_count": 26,
   "metadata": {},
   "outputs": [
    {
     "name": "stdout",
     "output_type": "stream",
     "text": [
      "Counter({'a': 6, 'b': 6, 'c': 3})\n"
     ]
    }
   ],
   "source": [
    "\n",
    "from collections import Counter # stores the elements as dictionary keys and their counts as their values\n",
    "a = \"abababaaabbbccc\"\n",
    "my_counter = Counter(a)\n",
    "print(my_counter)\n"
   ]
  },
  {
   "cell_type": "code",
   "execution_count": 30,
   "metadata": {},
   "outputs": [
    {
     "name": "stdout",
     "output_type": "stream",
     "text": [
      "dict_items([('a', 6), ('b', 6), ('c', 3)])\n",
      "dict_keys(['a', 'b', 'c'])\n",
      "dict_values([6, 6, 3])\n",
      "[('a', 6), ('b', 6)]\n",
      "['a', 'a', 'a', 'a', 'a', 'a', 'b', 'b', 'b', 'b', 'b', 'b', 'c', 'c', 'c']\n"
     ]
    }
   ],
   "source": [
    "print(my_counter.items())\n",
    "print(my_counter.keys())\n",
    "print(my_counter.values())\n",
    "print(my_counter.most_common(2))            # 2 most common elements\n",
    "print(list(my_counter.elements()))"
   ]
  },
  {
   "cell_type": "code",
   "execution_count": null,
   "metadata": {},
   "outputs": [],
   "source": [
    "# TO-DO - namedtuple"
   ]
  },
  {
   "cell_type": "code",
   "execution_count": null,
   "metadata": {},
   "outputs": [],
   "source": [
    "# TO-DO - OrderedDict"
   ]
  },
  {
   "cell_type": "code",
   "execution_count": null,
   "metadata": {},
   "outputs": [],
   "source": [
    "# TO-DO - defaultDict"
   ]
  },
  {
   "cell_type": "code",
   "execution_count": null,
   "metadata": {},
   "outputs": [],
   "source": [
    "# TO-DO - deque"
   ]
  },
  {
   "cell_type": "code",
   "execution_count": 31,
   "metadata": {},
   "outputs": [
    {
     "name": "stdout",
     "output_type": "stream",
     "text": [
      "🍫 Chocolate 🥞 Plain Pancake\n"
     ]
    }
   ],
   "source": [
    "# Decorators\n",
    "# In Python, a decorator is like the magic topping. It adds extra features to a function without changing how the function works.\n",
    "\n",
    "def chocolate_topping(pancake_function):\n",
    "    def wrapper():\n",
    "        return \"🍫 Chocolate \" + pancake_function()\n",
    "    return wrapper\n",
    "\n",
    "@chocolate_topping\n",
    "def make_pancake():\n",
    "    return \"🥞 Plain Pancake\"\n",
    "\n",
    "print(make_pancake())  # 🍫 Chocolate 🥞 Plain Pancake"
   ]
  },
  {
   "cell_type": "code",
   "execution_count": 32,
   "metadata": {},
   "outputs": [
    {
     "name": "stdout",
     "output_type": "stream",
     "text": [
      "🥞 First pancake\n",
      "🥞 Second pancake\n",
      "🥞 Third pancake\n"
     ]
    }
   ],
   "source": [
    "# Generators\n",
    "# A generator is like a special pancake machine that makes one pancake at a time instead of making all of them at once.\n",
    "\n",
    "def pancake_maker():\n",
    "    yield \"🥞 First pancake\"\n",
    "    yield \"🥞 Second pancake\"\n",
    "    yield \"🥞 Third pancake\"\n",
    "\n",
    "pancakes = pancake_maker()\n",
    "print(next(pancakes))  # First pancake\n",
    "print(next(pancakes))  # Second pancake\n",
    "print(next(pancakes))  # Third pancake"
   ]
  },
  {
   "cell_type": "code",
   "execution_count": 34,
   "metadata": {},
   "outputs": [
    {
     "name": "stdout",
     "output_type": "stream",
     "text": [
      "['🍎', '🍎', '🍎']\n"
     ]
    }
   ],
   "source": [
    "# MAP: The Apple Painter 🎨\n",
    "# Map is like a magical apple painter that takes each apple and paints it red. It doesn’t throw away any apples—just changes them.\n",
    "#     Example:\n",
    "#         You have green apples 🍏🍏🍏.\n",
    "#         The magical painter 🎨 turns them into red apples 🍎🍎🍎.\n",
    "#     In Python, map() works the same way—it takes each item in a list and changes it.\n",
    "\n",
    "apples = [\"🍏\", \"🍏\", \"🍏\"]\n",
    "\n",
    "def paint_red(apple):\n",
    "    return \"🍎\"\n",
    "\n",
    "red_apples = list(map(paint_red, apples))\n",
    "print(red_apples)  "
   ]
  },
  {
   "cell_type": "code",
   "execution_count": 33,
   "metadata": {},
   "outputs": [
    {
     "name": "stdout",
     "output_type": "stream",
     "text": [
      "['🍎', '🍎']\n"
     ]
    }
   ],
   "source": [
    "# FILTER: The Apple Sorter 🏗️\n",
    "# Filter is like an apple sorter. It picks only the apples that meet a condition and throws away the rest.\n",
    "#     Example:\n",
    "#         You have good apples 🍎 and bad apples 🍏 (unripe).\n",
    "#         The apple sorter only keeps the good apples 🍎.\n",
    "#     In Python, filter() works the same way—it keeps only the items that pass a test.\n",
    "apples = [\"🍏\", \"🍎\", \"🍏\", \"🍎\", \"🍏\"]\n",
    "\n",
    "def is_red(apple):\n",
    "    return apple == \"🍎\"  # Keep only red apples\n",
    "\n",
    "good_apples = list(filter(is_red, apples))\n",
    "print(good_apples) "
   ]
  },
  {
   "cell_type": "code",
   "execution_count": 35,
   "metadata": {},
   "outputs": [
    {
     "name": "stdout",
     "output_type": "stream",
     "text": [
      "🍏🍎🍏🍎🍏\n"
     ]
    }
   ],
   "source": [
    "# REDUCE: The Apple Squeezer 🍹\n",
    "# Reduce is like an apple squeezer—it takes all apples and squeezes them into one cup of juice.\n",
    "#     Example:\n",
    "#         You have 5 apples 🍏🍎🍏🍎🍏.\n",
    "#         The squeezer presses them into one apple juice 🍹.\n",
    "# In Python, reduce() combines everything into one value.\n",
    "from functools import reduce\n",
    "\n",
    "apples = [\"🍏\", \"🍎\", \"🍏\", \"🍎\", \"🍏\"]\n",
    "\n",
    "def squeeze(juice, apple):\n",
    "    return juice + apple  # Combine all apples into juice\n",
    "\n",
    "apple_juice = reduce(squeeze, apples)\n",
    "print(apple_juice)  # '🍏🍎🍏🍎🍏' (All apples in one string)"
   ]
  }
 ],
 "metadata": {
  "kernelspec": {
   "display_name": ".venv",
   "language": "python",
   "name": "python3"
  },
  "language_info": {
   "codemirror_mode": {
    "name": "ipython",
    "version": 3
   },
   "file_extension": ".py",
   "mimetype": "text/x-python",
   "name": "python",
   "nbconvert_exporter": "python",
   "pygments_lexer": "ipython3",
   "version": "3.10.12"
  }
 },
 "nbformat": 4,
 "nbformat_minor": 2
}
